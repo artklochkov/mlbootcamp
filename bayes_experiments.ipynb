{
 "cells": [
  {
   "cell_type": "code",
   "execution_count": 23,
   "metadata": {
    "collapsed": false
   },
   "outputs": [],
   "source": [
    "from sklearn.naive_bayes import MultinomialNB, BernoulliNB\n",
    "import pandas as pd\n",
    "# import xgboost as xgb\n",
    "import numpy as np\n",
    "from sklearn.model_selection import train_test_split, cross_val_score\n",
    "from sklearn.ensemble import RandomForestClassifier\n",
    "import random\n",
    "from sklearn.model_selection import KFold\n",
    "from sklearn.model_selection import GridSearchCV\n",
    "from sklearn.metrics import roc_auc_score, make_scorer\n",
    "from xgboost import XGBClassifier"
   ]
  },
  {
   "cell_type": "code",
   "execution_count": 2,
   "metadata": {
    "collapsed": true
   },
   "outputs": [],
   "source": [
    "df = pd.read_csv('train.csv', sep=';')\n",
    "bins = [0,90,100,110, 120, 130, 140, 150, 160, 170, 180, 250, 100000]\n",
    "df['ap_hi'] = pd.cut(df['ap_hi'].values, bins, labels=False)\n",
    "lo_bins = [0,40,50,60,70,80,90,100,110,120,100000]\n",
    "df['ap_lo'] = pd.cut(df['ap_lo'].values, lo_bins, labels=False)\n",
    "df['ap_hi'].fillna(3, inplace = True)\n",
    "df['ap_lo'].fillna(4, inplace = True)"
   ]
  },
  {
   "cell_type": "code",
   "execution_count": 3,
   "metadata": {
    "collapsed": true
   },
   "outputs": [],
   "source": [
    "def preprocess(X, squares = False):\n",
    "    xlen = X.shape[0]\n",
    "    imb = X[:,3] / ((X[:,2]/100.0)**2)\n",
    "    imb = imb.reshape((len(imb),1))\n",
    "    X = np.hstack((X, imb))\n",
    "    X[:,0] = (X[:,0].astype(int) / int(365)).astype(int) #number of years instead of days\n",
    "    gender = X[:,1].astype(int) - 1\n",
    "    cholesterol = X[:,6].astype(int) - 1\n",
    "    gluc = X[:,7].astype(int) - 1\n",
    "    ap_hi = X[:,4].astype(np.int64)\n",
    "    ap_lo = X[:,5].astype(np.int64)\n",
    "    gender_oh = np.zeros((xlen, 2)).astype(int)\n",
    "    cholesterol_oh = np.zeros((xlen, 3)).astype(int)\n",
    "    gluc_oh = np.zeros((xlen, 3)).astype(np.int64)\n",
    "    ap_hi_oh = np.zeros((xlen,12)).astype(np.int64)\n",
    "    ap_lo_oh = np.zeros((xlen,10)).astype(np.int64)\n",
    "    gender_oh[np.arange(xlen), gender[np.arange(xlen)] - 1] = 1\n",
    "    cholesterol_oh[np.arange(xlen), cholesterol[np.arange(xlen)] - 1] = 1\n",
    "    gluc_oh[np.arange(xlen), gluc[np.arange(xlen)] - 1] = 1\n",
    "    ap_hi_oh[np.arange(xlen), ap_hi[np.arange(xlen)]] = 1\n",
    "    ap_lo_oh[np.arange(xlen), ap_lo[np.arange(xlen)]] = 1\n",
    "    X = np.hstack((X, gender_oh))\n",
    "    X = np.hstack((X, cholesterol_oh))\n",
    "    X = np.hstack((X, gluc_oh))\n",
    "    X = np.hstack((X, ap_hi_oh))\n",
    "    X = np.hstack((X, ap_lo_oh))\n",
    "    if (squares):\n",
    "        counter = 0\n",
    "        XX = np.zeros((X.shape[0], int((X.shape[1] * (X.shape[1] + 1)) / 2) + X.shape[1]))\n",
    "        for i in range(X.shape[1]):\n",
    "            for j in range(i + 1):\n",
    "                XX[:,counter] = X[:,i] * X[:,j]\n",
    "                counter = counter + 1\n",
    "        XX[:,counter:] = X\n",
    "        X = XX;\n",
    "    return X"
   ]
  },
  {
   "cell_type": "code",
   "execution_count": 4,
   "metadata": {
    "collapsed": true
   },
   "outputs": [],
   "source": [
    "X_short = df.values[:,1:-4]\n",
    "X_all = df.values[:,1:-1]\n",
    "y = df.values[:,-1]\n",
    "indexes = list(range(len(y)))\n",
    "random.shuffle(indexes)\n",
    "X_short = X_short[indexes]\n",
    "X_all = X_all[indexes]\n",
    "y = y[indexes]\n",
    "X_short = preprocess(X_short, squares=False)\n",
    "X_all = preprocess(X_all, squares=False)"
   ]
  },
  {
   "cell_type": "code",
   "execution_count": 5,
   "metadata": {
    "collapsed": true
   },
   "outputs": [],
   "source": [
    "X_short_train, X_short_test, y_short_train, y_short_test = train_test_split(X_short, y, test_size=0.3)\n",
    "X_all_train, X_all_test, y_all_train, y_all_stest = train_test_split(X_all, y, test_size=0.3)"
   ]
  },
  {
   "cell_type": "code",
   "execution_count": 28,
   "metadata": {
    "collapsed": false
   },
   "outputs": [
    {
     "name": "stdout",
     "output_type": "stream",
     "text": [
      "0.766264929908\n"
     ]
    }
   ],
   "source": [
    "clf = BernoulliNB()\n",
    "clf.fit(X_all_train, y_all_train.astype(np.int64))\n",
    "y_pred = clf.predict_proba(X_all_test)[:,1]\n",
    "print(roc_auc_score(y_all_stest, y_pred))"
   ]
  },
  {
   "cell_type": "code",
   "execution_count": null,
   "metadata": {
    "collapsed": true
   },
   "outputs": [],
   "source": []
  }
 ],
 "metadata": {
  "kernelspec": {
   "display_name": "Python 3",
   "language": "python",
   "name": "python3"
  },
  "language_info": {
   "codemirror_mode": {
    "name": "ipython",
    "version": 3
   },
   "file_extension": ".py",
   "mimetype": "text/x-python",
   "name": "python",
   "nbconvert_exporter": "python",
   "pygments_lexer": "ipython3",
   "version": "3.4.3"
  }
 },
 "nbformat": 4,
 "nbformat_minor": 2
}
