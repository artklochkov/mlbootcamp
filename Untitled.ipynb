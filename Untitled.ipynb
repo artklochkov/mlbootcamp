{
 "cells": [
  {
   "cell_type": "code",
   "execution_count": 35,
   "metadata": {
    "collapsed": false
   },
   "outputs": [],
   "source": [
    "import pandas as pd\n",
    "# import xgboost as xgb\n",
    "import numpy as np\n",
    "from sklearn.model_selection import train_test_split, cross_val_score\n",
    "from sklearn.ensemble import RandomForestClassifier\n",
    "import random\n",
    "from sklearn.model_selection import KFold\n",
    "from sklearn.model_selection import GridSearchCV\n",
    "from sklearn.metrics import roc_auc_score, make_scorer"
   ]
  },
  {
   "cell_type": "code",
   "execution_count": 2,
   "metadata": {
    "collapsed": false
   },
   "outputs": [
    {
     "name": "stdout",
     "output_type": "stream",
     "text": [
      "          id    age  gender  height  weight  ap_hi  ap_lo  cholesterol  gluc  \\\n",
      "0          0  18393       2     168    62.0    110     80            1     1   \n",
      "1          1  20228       1     156    85.0    140     90            3     1   \n",
      "2          2  18857       1     165    64.0    130     70            3     1   \n",
      "3          3  17623       2     169    82.0    150    100            1     1   \n",
      "4          4  17474       1     156    56.0    100     60            1     1   \n",
      "5          8  21914       1     151    67.0    120     80            2     2   \n",
      "6          9  22113       1     157    93.0    130     80            3     1   \n",
      "7         12  22584       2     178    95.0    130     90            3     3   \n",
      "8         13  17668       1     158    71.0    110     70            1     1   \n",
      "9         14  19834       1     164    68.0    110     60            1     1   \n",
      "10        15  22530       1     169    80.0    120     80            1     1   \n",
      "11        16  18815       2     173    60.0    120     80            1     1   \n",
      "12        18  14791       2     165    60.0    120     80            1     1   \n",
      "13        21  19809       1     158    78.0    110     70            1     1   \n",
      "14        23  14532       2     181    95.0    130     90            1     1   \n",
      "15        24  16782       2     172   112.0    120     80            1     1   \n",
      "16        25  21296       1     170    75.0    130     70            1     1   \n",
      "17        27  16747       1     158    52.0    110     70            1     3   \n",
      "18        28  17482       1     154    68.0    100     70            1     1   \n",
      "19        29  21755       2     162    56.0    120     70            1     1   \n",
      "20        30  19778       2     163    83.0    120     80            1     1   \n",
      "21        31  21413       1     157    69.0    130     80            1     1   \n",
      "22        32  23046       1     158    90.0    145     85            2     2   \n",
      "23        33  23376       2     156    45.0    110     60            1     1   \n",
      "24        35  16608       1     170    68.0    150     90            3     1   \n",
      "25        36  14453       1     153    65.0    130    100            2     1   \n",
      "26        37  19559       1     156    59.0    130     90            1     1   \n",
      "27        38  18085       1     159    78.0    120     80            1     1   \n",
      "28        39  14574       2     166    66.0    120     80            1     1   \n",
      "29        40  21057       2     169    74.0    130     70            1     3   \n",
      "...      ...    ...     ...     ...     ...    ...    ...          ...   ...   \n",
      "69970  99958  22572       2     173   103.0    140     80            3     1   \n",
      "69971  99959  20136       2     177    80.0    130     80            1     1   \n",
      "69972  99960  17065       1     165    76.0    140     90            1     1   \n",
      "69973  99961  22142       2     175    72.0    130     80            1     1   \n",
      "69974  99962  18226       1     168    75.0    120     80            1     1   \n",
      "69975  99963  21264       2     182   100.0    120     80            1     1   \n",
      "69976  99964  21699       1     163    65.0    120     80            2     2   \n",
      "69977  99965  16843       1     168    75.0    120     79            1     1   \n",
      "69978  99967  18800       1     163    78.0     90     60            1     1   \n",
      "69979  99969  22423       1     163    74.0    160    100            2     2   \n",
      "69980  99971  17727       2     167    69.0    110     80            1     1   \n",
      "69981  99972  17500       2     182   110.0    130     90            2     2   \n",
      "69982  99973  18941       1     153    86.0    130     90            1     2   \n",
      "69983  99974  19652       1     165    72.0    120     80            1     1   \n",
      "69984  99975  17926       2     168    80.0    120     80            1     1   \n",
      "69985  99977  18194       1     156   102.0    130     80            1     1   \n",
      "69986  99978  18198       2     180    78.0    120     80            1     1   \n",
      "69987  99979  18852       1     151    49.0    120     80            1     1   \n",
      "69988  99981  21978       1     160    59.0    110     70            1     1   \n",
      "69989  99985  21013       1     157    83.0    120     70            1     1   \n",
      "69990  99986  15094       1     168    72.0    110     70            1     1   \n",
      "69991  99988  20609       1     159    72.0    130     90            2     2   \n",
      "69992  99990  18792       1     161    56.0    170     90            1     1   \n",
      "69993  99991  19699       1     172    70.0    130     90            1     1   \n",
      "69994  99992  21074       1     165    80.0    150     80            1     1   \n",
      "69995  99993  19240       2     168    76.0    120     80            1     1   \n",
      "69996  99995  22601       1     158   126.0    140     90            2     2   \n",
      "69997  99996  19066       2     183   105.0    180     90            3     1   \n",
      "69998  99998  22431       1     163    72.0    135     80            1     2   \n",
      "69999  99999  20540       1     170    72.0    120     80            2     1   \n",
      "\n",
      "       smoke  alco  active  cardio  \n",
      "0          0     0       1       0  \n",
      "1          0     0       1       1  \n",
      "2          0     0       0       1  \n",
      "3          0     0       1       1  \n",
      "4          0     0       0       0  \n",
      "5          0     0       0       0  \n",
      "6          0     0       1       0  \n",
      "7          0     0       1       1  \n",
      "8          0     0       1       0  \n",
      "9          0     0       0       0  \n",
      "10         0     0       1       0  \n",
      "11         0     0       1       0  \n",
      "12         0     0       0       0  \n",
      "13         0     0       1       0  \n",
      "14         1     1       1       0  \n",
      "15         0     0       0       1  \n",
      "16         0     0       0       0  \n",
      "17         0     0       1       0  \n",
      "18         0     0       0       0  \n",
      "19         1     0       1       0  \n",
      "20         0     0       1       0  \n",
      "21         0     0       1       0  \n",
      "22         0     0       1       1  \n",
      "23         0     0       1       0  \n",
      "24         0     0       1       1  \n",
      "25         0     0       1       0  \n",
      "26         0     0       1       0  \n",
      "27         0     0       1       0  \n",
      "28         0     0       1       0  \n",
      "29         0     0       0       0  \n",
      "...      ...   ...     ...     ...  \n",
      "69970      1     1       0       1  \n",
      "69971      0     0       1       0  \n",
      "69972      0     0       1       1  \n",
      "69973      0     0       1       0  \n",
      "69974      0     0       1       0  \n",
      "69975      0     0       1       1  \n",
      "69976      0     0       1       0  \n",
      "69977      0     0       1       0  \n",
      "69978      0     0       1       1  \n",
      "69979      0     0       1       1  \n",
      "69980      0     1       0       0  \n",
      "69981      0     0       1       1  \n",
      "69982      0     0       1       1  \n",
      "69983      0     0       1       0  \n",
      "69984      0     0       1       1  \n",
      "69985      0     1       0       1  \n",
      "69986      0     0       1       0  \n",
      "69987      0     0       1       0  \n",
      "69988      0     0       1       0  \n",
      "69989      0     0       1       1  \n",
      "69990      0     0       1       1  \n",
      "69991      0     0       1       0  \n",
      "69992      0     0       1       1  \n",
      "69993      0     0       1       1  \n",
      "69994      0     0       1       1  \n",
      "69995      1     0       1       0  \n",
      "69996      0     0       1       1  \n",
      "69997      0     1       0       1  \n",
      "69998      0     0       0       1  \n",
      "69999      0     0       1       0  \n",
      "\n",
      "[70000 rows x 13 columns]\n"
     ]
    }
   ],
   "source": [
    "df = pd.read_csv('ml5/train.csv', sep=';')\n",
    "print(df)"
   ]
  },
  {
   "cell_type": "code",
   "execution_count": 19,
   "metadata": {
    "collapsed": false
   },
   "outputs": [],
   "source": [
    "X = df.values[:,1:-4]\n",
    "y = df.values[:,-1]\n",
    "indexes = list(range(len(X)))\n",
    "random.shuffle(indexes)\n",
    "X = X[indexes]\n",
    "imb = X[:,3] / ((X[:,2]/100.0)**2)\n",
    "imb = imb.reshape((len(imb),1))\n",
    "X = np.hstack((X, imb))\n",
    "y = y[indexes]\n",
    "X[:,0] = X[:,0] / 365 #number of years instead of days\n",
    "gender = X[:,1].astype(int) - 1\n",
    "gender_oh = np.zeros((X.shape[0], 2))\n",
    "gender_oh[np.arange(X.shape[0]), gender[np.arange(gender.shape[0])] - 1] = 1\n",
    "X = np.hstack((X, gender_oh))"
   ]
  },
  {
   "cell_type": "code",
   "execution_count": 23,
   "metadata": {
    "collapsed": false
   },
   "outputs": [],
   "source": [
    "X_train, X_test, y_train, y_test = train_test_split(X, y, test_size=0.3)"
   ]
  },
  {
   "cell_type": "code",
   "execution_count": 29,
   "metadata": {
    "collapsed": false
   },
   "outputs": [
    {
     "data": {
      "text/plain": [
       "(21000, 2)"
      ]
     },
     "execution_count": 29,
     "metadata": {},
     "output_type": "execute_result"
    }
   ],
   "source": [
    "y_pred.shape"
   ]
  },
  {
   "cell_type": "code",
   "execution_count": 34,
   "metadata": {
    "collapsed": false
   },
   "outputs": [
    {
     "name": "stdout",
     "output_type": "stream",
     "text": [
      "0.803406225739\n",
      "0.796031415418\n"
     ]
    }
   ],
   "source": [
    "clf = RandomForestClassifier(n_estimators=100, n_jobs=-1, max_depth=6)\n",
    "# scores = cross_val_score(clf, X, y, cv=5)\n",
    "clf.fit(X_train, y_train)\n",
    "y_pred = clf.predict_proba(X_test)[:,1]\n",
    "y_tpred = clf.predict_proba(X_train)[:,1]\n",
    "print(roc_auc_score(y_train, y_tpred))\n",
    "print(roc_auc_score(y_test, y_pred))"
   ]
  },
  {
   "cell_type": "code",
   "execution_count": 22,
   "metadata": {
    "collapsed": false
   },
   "outputs": [
    {
     "name": "stdout",
     "output_type": "stream",
     "text": [
      "[ 0.70509249  0.71071429  0.70985714  0.70785714  0.70226445]\n"
     ]
    }
   ],
   "source": [
    "print(scores)"
   ]
  },
  {
   "cell_type": "code",
   "execution_count": 50,
   "metadata": {
    "collapsed": false
   },
   "outputs": [
    {
     "data": {
      "text/plain": [
       "70000"
      ]
     },
     "execution_count": 50,
     "metadata": {},
     "output_type": "execute_result"
    }
   ],
   "source": [
    "len(y)"
   ]
  },
  {
   "cell_type": "code",
   "execution_count": 56,
   "metadata": {
    "collapsed": false
   },
   "outputs": [],
   "source": [
    "counter = 0\n",
    "XX = np.zeros((X.shape[0], int((X.shape[1] * (X.shape[1] - 1)) / 2) + X.shape[1]))\n",
    "for i in range(X.shape[1]):\n",
    "    for j in range(i):\n",
    "        XX[:,counter] = X[:,i] * X[:,j]\n",
    "        counter = counter + 1\n",
    "XX[:,counter:] = X"
   ]
  },
  {
   "cell_type": "code",
   "execution_count": 57,
   "metadata": {
    "collapsed": false
   },
   "outputs": [
    {
     "data": {
      "text/plain": [
       "(70000, 78)"
      ]
     },
     "execution_count": 57,
     "metadata": {},
     "output_type": "execute_result"
    }
   ],
   "source": [
    "XX.shape"
   ]
  },
  {
   "cell_type": "code",
   "execution_count": 59,
   "metadata": {
    "collapsed": true
   },
   "outputs": [],
   "source": [
    "clf = RandomForestClassifier(n_estimators=100, n_jobs=-1)\n",
    "scores = cross_val_score(clf, XX, y, cv=5)"
   ]
  },
  {
   "cell_type": "code",
   "execution_count": 38,
   "metadata": {
    "collapsed": false
   },
   "outputs": [
    {
     "name": "stdout",
     "output_type": "stream",
     "text": [
      "[ 0.72609099  0.72492857  0.72028571  0.71778571  0.7276234 ]\n"
     ]
    }
   ],
   "source": [
    "print(scores)"
   ]
  },
  {
   "cell_type": "code",
   "execution_count": 64,
   "metadata": {
    "collapsed": false
   },
   "outputs": [
    {
     "data": {
      "text/plain": [
       "GridSearchCV(cv=KFold(n_splits=3, random_state=None, shuffle=False),\n",
       "       error_score='raise',\n",
       "       estimator=RandomForestClassifier(bootstrap=True, class_weight=None, criterion='gini',\n",
       "            max_depth=None, max_features='auto', max_leaf_nodes=None,\n",
       "            min_impurity_split=1e-07, min_samples_leaf=1,\n",
       "            min_samples_split=2, min_weight_fraction_leaf=0.0,\n",
       "            n_estimators=100, n_jobs=-1, oob_score=False,\n",
       "            random_state=None, verbose=0, warm_start=False),\n",
       "       fit_params={}, iid=True, n_jobs=-1,\n",
       "       param_grid={'max_features': ['auto', 'log2', 'sqrt', None], 'criterion': ['entropy', 'gini']},\n",
       "       pre_dispatch='2*n_jobs', refit=True, return_train_score=True,\n",
       "       scoring=None, verbose=0)"
      ]
     },
     "execution_count": 64,
     "metadata": {},
     "output_type": "execute_result"
    }
   ],
   "source": [
    "cv = KFold(3)\n",
    "clf = GridSearchCV(clf, {'max_features': ['auto', 'log2', 'sqrt', None], 'criterion': ['entropy', 'gini']}, n_jobs=-1, cv=cv)\n",
    "clf.fit(X, y)  # set the best parameters"
   ]
  },
  {
   "cell_type": "code",
   "execution_count": null,
   "metadata": {
    "collapsed": true
   },
   "outputs": [],
   "source": [
    "grid = GridSearchCV(RandomForestClassifier(), param_grid={'n_estimators': [20, 50,100,200,500],\n",
    "                                                          'max_depth': [2,4,6,8,12],\n",
    "                                                          'max_features': ['auto', 'log2', 'sqrt', None],\n",
    "                                                          'criterion': ['entropy', 'gini'],\n",
    "                                                          'n_jobs': [5]}, \n",
    "                    n_jobs=4, \n",
    "                    scoring=make_scorer(roc_auc_score))"
   ]
  },
  {
   "cell_type": "code",
   "execution_count": 65,
   "metadata": {
    "collapsed": false
   },
   "outputs": [
    {
     "data": {
      "text/plain": [
       "0.71534285714285717"
      ]
     },
     "execution_count": 65,
     "metadata": {},
     "output_type": "execute_result"
    }
   ],
   "source": [
    "clf.best_score_"
   ]
  },
  {
   "cell_type": "code",
   "execution_count": 41,
   "metadata": {
    "collapsed": false
   },
   "outputs": [
    {
     "data": {
      "text/plain": [
       "(70000, 13)"
      ]
     },
     "execution_count": 41,
     "metadata": {},
     "output_type": "execute_result"
    }
   ],
   "source": [
    "df.values.shape"
   ]
  },
  {
   "cell_type": "code",
   "execution_count": null,
   "metadata": {
    "collapsed": true
   },
   "outputs": [],
   "source": [
    "# make age, holesterol, gluc one-hot"
   ]
  }
 ],
 "metadata": {
  "kernelspec": {
   "display_name": "Python 3",
   "language": "python",
   "name": "python3"
  },
  "language_info": {
   "codemirror_mode": {
    "name": "ipython",
    "version": 3
   },
   "file_extension": ".py",
   "mimetype": "text/x-python",
   "name": "python",
   "nbconvert_exporter": "python",
   "pygments_lexer": "ipython3",
   "version": "3.6.0"
  }
 },
 "nbformat": 4,
 "nbformat_minor": 2
}
