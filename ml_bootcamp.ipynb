{
 "cells": [
  {
   "cell_type": "code",
   "execution_count": 1,
   "metadata": {
    "collapsed": false,
    "deletable": true,
    "editable": true
   },
   "outputs": [
    {
     "name": "stderr",
     "output_type": "stream",
     "text": [
      "/usr/local/lib/python3.4/dist-packages/sklearn/cross_validation.py:44: DeprecationWarning: This module was deprecated in version 0.18 in favor of the model_selection module into which all the refactored classes and functions are moved. Also note that the interface of the new CV iterators are different from that of this module. This module will be removed in 0.20.\n",
      "  \"This module will be removed in 0.20.\", DeprecationWarning)\n"
     ]
    }
   ],
   "source": [
    "import pandas as pd\n",
    "# import xgboost as xgb\n",
    "import numpy as np\n",
    "from sklearn.model_selection import train_test_split, cross_val_score\n",
    "from sklearn.ensemble import RandomForestClassifier\n",
    "import random\n",
    "from sklearn.model_selection import KFold\n",
    "from sklearn.model_selection import GridSearchCV\n",
    "from sklearn.metrics import roc_auc_score, make_scorer\n",
    "from xgboost import XGBClassifier"
   ]
  },
  {
   "cell_type": "code",
   "execution_count": 2,
   "metadata": {
    "collapsed": false,
    "deletable": true,
    "editable": true
   },
   "outputs": [],
   "source": [
    "df = pd.read_csv('train.csv', sep=';')\n",
    "bins = [0,90,100,110, 120, 130, 140, 150, 160, 170, 180, 250, 100000]\n",
    "df['ap_hi'] = pd.cut(df['ap_hi'].values, bins, labels=False)\n",
    "lo_bins = [0,40,50,60,70,80,90,100,110,120,100000]\n",
    "df['ap_lo'] = pd.cut(df['ap_lo'].values, lo_bins, labels=False)\n",
    "df['ap_hi'].fillna(3, inplace = True)\n",
    "df['ap_lo'].fillna(4, inplace = True)"
   ]
  },
  {
   "cell_type": "code",
   "execution_count": 37,
   "metadata": {
    "collapsed": false,
    "deletable": true,
    "editable": true
   },
   "outputs": [
    {
     "data": {
      "text/plain": [
       "Index(['id', 'age', 'gender', 'height', 'weight', 'ap_hi', 'ap_lo',\n",
       "       'cholesterol', 'gluc', 'smoke', 'alco', 'active', 'cardio'],\n",
       "      dtype='object')"
      ]
     },
     "execution_count": 37,
     "metadata": {},
     "output_type": "execute_result"
    }
   ],
   "source": [
    "# age - as it is\n",
    "# gender - one hot\n",
    "# height - as it is\n",
    "# weight - as is\n",
    "# ap_hi - category by 10\n",
    "# ap_lo - category by 10\n",
    "df.columns"
   ]
  },
  {
   "cell_type": "code",
   "execution_count": 3,
   "metadata": {
    "collapsed": true,
    "deletable": true,
    "editable": true
   },
   "outputs": [],
   "source": [
    "def preprocess(X, squares = False):\n",
    "    xlen = X.shape[0]\n",
    "    imb = X[:,3] / ((X[:,2]/100.0)**2)\n",
    "    imb = imb.reshape((len(imb),1))\n",
    "    X = np.hstack((X, imb))\n",
    "    X[:,0] = (X[:,0].astype(int) / int(365)).astype(int) #number of years instead of days\n",
    "    gender = X[:,1].astype(int) - 1\n",
    "    cholesterol = X[:,6].astype(int) - 1\n",
    "    gluc = X[:,7].astype(int) - 1\n",
    "    ap_hi = X[:,4].astype(np.int64)\n",
    "    ap_lo = X[:,5].astype(np.int64)\n",
    "    gender_oh = np.zeros((xlen, 2)).astype(int)\n",
    "    cholesterol_oh = np.zeros((xlen, 3)).astype(int)\n",
    "    gluc_oh = np.zeros((xlen, 3)).astype(np.int64)\n",
    "    ap_hi_oh = np.zeros((xlen,12)).astype(np.int64)\n",
    "    ap_lo_oh = np.zeros((xlen,10)).astype(np.int64)\n",
    "    gender_oh[np.arange(xlen), gender[np.arange(xlen)] - 1] = 1\n",
    "    cholesterol_oh[np.arange(xlen), cholesterol[np.arange(xlen)] - 1] = 1\n",
    "    gluc_oh[np.arange(xlen), gluc[np.arange(xlen)] - 1] = 1\n",
    "    ap_hi_oh[np.arange(xlen), ap_hi[np.arange(xlen)]] = 1\n",
    "    ap_lo_oh[np.arange(xlen), ap_lo[np.arange(xlen)]] = 1\n",
    "    X = np.hstack((X, gender_oh))\n",
    "    X = np.hstack((X, cholesterol_oh))\n",
    "    X = np.hstack((X, gluc_oh))\n",
    "    X = np.hstack((X, ap_hi_oh))\n",
    "    X = np.hstack((X, ap_lo_oh))\n",
    "    if (squares):\n",
    "        counter = 0\n",
    "        XX = np.zeros((X.shape[0], int((X.shape[1] * (X.shape[1] + 1)) / 2) + X.shape[1]))\n",
    "        for i in range(X.shape[1]):\n",
    "            for j in range(i + 1):\n",
    "                XX[:,counter] = X[:,i] * X[:,j]\n",
    "                counter = counter + 1\n",
    "        XX[:,counter:] = X\n",
    "        X = XX;\n",
    "    return X"
   ]
  },
  {
   "cell_type": "code",
   "execution_count": 4,
   "metadata": {
    "collapsed": false,
    "deletable": true,
    "editable": true
   },
   "outputs": [],
   "source": [
    "X_short = df.values[:,1:-4]\n",
    "X_all = df.values[:,1:-1]\n",
    "y = df.values[:,-1]\n",
    "indexes = list(range(len(y)))\n",
    "random.shuffle(indexes)\n",
    "X_short = X_short[indexes]\n",
    "X_all = X_all[indexes]\n",
    "y = y[indexes]\n",
    "X_short = preprocess(X_short, squares=False)\n",
    "X_all = preprocess(X_all, squares=False)"
   ]
  },
  {
   "cell_type": "code",
   "execution_count": 5,
   "metadata": {
    "collapsed": false,
    "deletable": true,
    "editable": true
   },
   "outputs": [],
   "source": [
    "X_short_train, X_short_test, y_short_train, y_short_test = train_test_split(X_short, y, test_size=0.3)\n",
    "X_all_train, X_all_test, y_all_train, y_all_stest = train_test_split(X_all, y, test_size=0.3)"
   ]
  },
  {
   "cell_type": "code",
   "execution_count": 76,
   "metadata": {
    "collapsed": false,
    "deletable": true,
    "editable": true
   },
   "outputs": [
    {
     "name": "stdout",
     "output_type": "stream",
     "text": [
      "[0]\tvalidation_0-auc:0.799293\tvalidation_1-auc:0.793218\n",
      "Multiple eval metrics have been passed: 'validation_1-auc' will be used for early stopping.\n",
      "\n",
      "Will train until validation_1-auc hasn't improved in 10 rounds.\n",
      "[1]\tvalidation_0-auc:0.803258\tvalidation_1-auc:0.795023\n",
      "[2]\tvalidation_0-auc:0.807494\tvalidation_1-auc:0.797366\n",
      "[3]\tvalidation_0-auc:0.806351\tvalidation_1-auc:0.795587\n",
      "[4]\tvalidation_0-auc:0.808311\tvalidation_1-auc:0.796968\n",
      "[5]\tvalidation_0-auc:0.809023\tvalidation_1-auc:0.797732\n",
      "[6]\tvalidation_0-auc:0.809421\tvalidation_1-auc:0.798278\n",
      "[7]\tvalidation_0-auc:0.809342\tvalidation_1-auc:0.797955\n",
      "[8]\tvalidation_0-auc:0.809713\tvalidation_1-auc:0.798424\n",
      "[9]\tvalidation_0-auc:0.810152\tvalidation_1-auc:0.798849\n",
      "[10]\tvalidation_0-auc:0.809919\tvalidation_1-auc:0.798933\n",
      "[11]\tvalidation_0-auc:0.810092\tvalidation_1-auc:0.798991\n",
      "[12]\tvalidation_0-auc:0.81036\tvalidation_1-auc:0.799001\n",
      "[13]\tvalidation_0-auc:0.810327\tvalidation_1-auc:0.799014\n",
      "[14]\tvalidation_0-auc:0.810392\tvalidation_1-auc:0.799084\n",
      "[15]\tvalidation_0-auc:0.810475\tvalidation_1-auc:0.79909\n",
      "[16]\tvalidation_0-auc:0.810425\tvalidation_1-auc:0.799139\n",
      "[17]\tvalidation_0-auc:0.810512\tvalidation_1-auc:0.799118\n",
      "[18]\tvalidation_0-auc:0.810414\tvalidation_1-auc:0.799255\n",
      "[19]\tvalidation_0-auc:0.810186\tvalidation_1-auc:0.799189\n",
      "[20]\tvalidation_0-auc:0.810292\tvalidation_1-auc:0.799265\n",
      "[21]\tvalidation_0-auc:0.810276\tvalidation_1-auc:0.799375\n",
      "[22]\tvalidation_0-auc:0.810206\tvalidation_1-auc:0.799398\n",
      "[23]\tvalidation_0-auc:0.810249\tvalidation_1-auc:0.799492\n",
      "[24]\tvalidation_0-auc:0.810348\tvalidation_1-auc:0.799519\n",
      "[25]\tvalidation_0-auc:0.810342\tvalidation_1-auc:0.79953\n",
      "[26]\tvalidation_0-auc:0.810301\tvalidation_1-auc:0.799675\n",
      "[27]\tvalidation_0-auc:0.810374\tvalidation_1-auc:0.799738\n",
      "[28]\tvalidation_0-auc:0.810407\tvalidation_1-auc:0.799734\n",
      "[29]\tvalidation_0-auc:0.810382\tvalidation_1-auc:0.799726\n",
      "[30]\tvalidation_0-auc:0.810406\tvalidation_1-auc:0.799706\n",
      "[31]\tvalidation_0-auc:0.810551\tvalidation_1-auc:0.799719\n",
      "[32]\tvalidation_0-auc:0.810426\tvalidation_1-auc:0.799685\n",
      "[33]\tvalidation_0-auc:0.81052\tvalidation_1-auc:0.79975\n",
      "[34]\tvalidation_0-auc:0.810353\tvalidation_1-auc:0.799612\n",
      "[35]\tvalidation_0-auc:0.810424\tvalidation_1-auc:0.799634\n",
      "[36]\tvalidation_0-auc:0.810441\tvalidation_1-auc:0.799636\n",
      "[37]\tvalidation_0-auc:0.810369\tvalidation_1-auc:0.799667\n",
      "[38]\tvalidation_0-auc:0.810295\tvalidation_1-auc:0.799662\n",
      "[39]\tvalidation_0-auc:0.810292\tvalidation_1-auc:0.799654\n",
      "[40]\tvalidation_0-auc:0.810339\tvalidation_1-auc:0.799687\n",
      "[41]\tvalidation_0-auc:0.810414\tvalidation_1-auc:0.799695\n",
      "[42]\tvalidation_0-auc:0.810303\tvalidation_1-auc:0.799592\n",
      "[43]\tvalidation_0-auc:0.810358\tvalidation_1-auc:0.799587\n",
      "Stopping. Best iteration:\n",
      "[33]\tvalidation_0-auc:0.81052\tvalidation_1-auc:0.79975\n",
      "\n"
     ]
    },
    {
     "data": {
      "text/plain": [
       "XGBClassifier(base_score=0.5, colsample_bylevel=0.8, colsample_bytree=0.8,\n",
       "       gamma=0, learning_rate=0.001, max_delta_step=0, max_depth=8,\n",
       "       min_child_weight=1, missing=None, n_estimators=10000, nthread=36,\n",
       "       objective='binary:logistic', reg_alpha=0, reg_lambda=1,\n",
       "       scale_pos_weight=1, seed=0, silent=True, subsample=1)"
      ]
     },
     "execution_count": 76,
     "metadata": {},
     "output_type": "execute_result"
    }
   ],
   "source": [
    "clf_short = XGBClassifier(max_depth = 8, nthread = 36,\n",
    "                    n_estimators = 10000, learning_rate =0.001,\n",
    "                    colsample_bytree = 0.8, colsample_bylevel = 0.8)\n",
    "clf_short.fit(X_short_train, y_short_train,\n",
    "        eval_set = [(X_short_train, y_short_train), (X_short_test, y_short_test)], eval_metric = 'auc',\n",
    "        early_stopping_rounds= 10, verbose = True)"
   ]
  },
  {
   "cell_type": "code",
   "execution_count": 96,
   "metadata": {
    "collapsed": false,
    "deletable": true,
    "editable": true
   },
   "outputs": [
    {
     "name": "stdout",
     "output_type": "stream",
     "text": [
      "[0]\tvalidation_0-auc:0.787858\tvalidation_1-auc:0.790062\n",
      "Multiple eval metrics have been passed: 'validation_1-auc' will be used for early stopping.\n",
      "\n",
      "Will train until validation_1-auc hasn't improved in 10 rounds.\n",
      "[1]\tvalidation_0-auc:0.787858\tvalidation_1-auc:0.790062\n",
      "[2]\tvalidation_0-auc:0.787858\tvalidation_1-auc:0.790062\n",
      "[3]\tvalidation_0-auc:0.788679\tvalidation_1-auc:0.790961\n",
      "[4]\tvalidation_0-auc:0.791615\tvalidation_1-auc:0.792703\n",
      "[5]\tvalidation_0-auc:0.792688\tvalidation_1-auc:0.794167\n",
      "[6]\tvalidation_0-auc:0.793737\tvalidation_1-auc:0.795847\n",
      "[7]\tvalidation_0-auc:0.793965\tvalidation_1-auc:0.796014\n",
      "[8]\tvalidation_0-auc:0.793992\tvalidation_1-auc:0.796062\n",
      "[9]\tvalidation_0-auc:0.794595\tvalidation_1-auc:0.796745\n",
      "[10]\tvalidation_0-auc:0.79485\tvalidation_1-auc:0.796594\n",
      "[11]\tvalidation_0-auc:0.795552\tvalidation_1-auc:0.797472\n",
      "[12]\tvalidation_0-auc:0.795733\tvalidation_1-auc:0.797598\n",
      "[13]\tvalidation_0-auc:0.795994\tvalidation_1-auc:0.797883\n",
      "[14]\tvalidation_0-auc:0.795835\tvalidation_1-auc:0.797859\n",
      "[15]\tvalidation_0-auc:0.796303\tvalidation_1-auc:0.798332\n",
      "[16]\tvalidation_0-auc:0.796782\tvalidation_1-auc:0.79854\n",
      "[17]\tvalidation_0-auc:0.797028\tvalidation_1-auc:0.798627\n",
      "[18]\tvalidation_0-auc:0.79721\tvalidation_1-auc:0.798629\n",
      "[19]\tvalidation_0-auc:0.797433\tvalidation_1-auc:0.798732\n",
      "[20]\tvalidation_0-auc:0.797797\tvalidation_1-auc:0.799044\n",
      "[21]\tvalidation_0-auc:0.797948\tvalidation_1-auc:0.799174\n",
      "[22]\tvalidation_0-auc:0.797976\tvalidation_1-auc:0.799125\n",
      "[23]\tvalidation_0-auc:0.798222\tvalidation_1-auc:0.799293\n",
      "[24]\tvalidation_0-auc:0.798335\tvalidation_1-auc:0.799441\n",
      "[25]\tvalidation_0-auc:0.798464\tvalidation_1-auc:0.799513\n",
      "[26]\tvalidation_0-auc:0.798521\tvalidation_1-auc:0.79946\n",
      "[27]\tvalidation_0-auc:0.79897\tvalidation_1-auc:0.799916\n",
      "[28]\tvalidation_0-auc:0.799126\tvalidation_1-auc:0.799902\n",
      "[29]\tvalidation_0-auc:0.799228\tvalidation_1-auc:0.800075\n",
      "[30]\tvalidation_0-auc:0.799584\tvalidation_1-auc:0.800395\n",
      "[31]\tvalidation_0-auc:0.799816\tvalidation_1-auc:0.800413\n",
      "[32]\tvalidation_0-auc:0.800045\tvalidation_1-auc:0.800653\n",
      "[33]\tvalidation_0-auc:0.800189\tvalidation_1-auc:0.80065\n",
      "[34]\tvalidation_0-auc:0.800521\tvalidation_1-auc:0.801258\n",
      "[35]\tvalidation_0-auc:0.800655\tvalidation_1-auc:0.801282\n",
      "[36]\tvalidation_0-auc:0.800836\tvalidation_1-auc:0.801633\n",
      "[37]\tvalidation_0-auc:0.80106\tvalidation_1-auc:0.801742\n",
      "[38]\tvalidation_0-auc:0.801253\tvalidation_1-auc:0.802032\n",
      "[39]\tvalidation_0-auc:0.801529\tvalidation_1-auc:0.802166\n",
      "[40]\tvalidation_0-auc:0.801823\tvalidation_1-auc:0.802356\n",
      "[41]\tvalidation_0-auc:0.801979\tvalidation_1-auc:0.802539\n",
      "[42]\tvalidation_0-auc:0.80226\tvalidation_1-auc:0.802673\n",
      "[43]\tvalidation_0-auc:0.8024\tvalidation_1-auc:0.802708\n",
      "[44]\tvalidation_0-auc:0.802598\tvalidation_1-auc:0.802895\n",
      "[45]\tvalidation_0-auc:0.802788\tvalidation_1-auc:0.80302\n",
      "[46]\tvalidation_0-auc:0.802869\tvalidation_1-auc:0.80304\n",
      "[47]\tvalidation_0-auc:0.803021\tvalidation_1-auc:0.803163\n",
      "[48]\tvalidation_0-auc:0.80317\tvalidation_1-auc:0.803265\n",
      "[49]\tvalidation_0-auc:0.803341\tvalidation_1-auc:0.803406\n",
      "[50]\tvalidation_0-auc:0.803481\tvalidation_1-auc:0.803501\n",
      "[51]\tvalidation_0-auc:0.803629\tvalidation_1-auc:0.803541\n",
      "[52]\tvalidation_0-auc:0.803786\tvalidation_1-auc:0.803628\n",
      "[53]\tvalidation_0-auc:0.803919\tvalidation_1-auc:0.803767\n",
      "[54]\tvalidation_0-auc:0.803999\tvalidation_1-auc:0.803786\n",
      "[55]\tvalidation_0-auc:0.804137\tvalidation_1-auc:0.803833\n",
      "[56]\tvalidation_0-auc:0.804228\tvalidation_1-auc:0.803936\n",
      "[57]\tvalidation_0-auc:0.804339\tvalidation_1-auc:0.804046\n",
      "[58]\tvalidation_0-auc:0.804416\tvalidation_1-auc:0.804072\n",
      "[59]\tvalidation_0-auc:0.804561\tvalidation_1-auc:0.804185\n",
      "[60]\tvalidation_0-auc:0.804655\tvalidation_1-auc:0.804273\n",
      "[61]\tvalidation_0-auc:0.804796\tvalidation_1-auc:0.804366\n",
      "[62]\tvalidation_0-auc:0.80486\tvalidation_1-auc:0.804461\n",
      "[63]\tvalidation_0-auc:0.804968\tvalidation_1-auc:0.804475\n",
      "[64]\tvalidation_0-auc:0.805032\tvalidation_1-auc:0.804475\n",
      "[65]\tvalidation_0-auc:0.805126\tvalidation_1-auc:0.804556\n",
      "[66]\tvalidation_0-auc:0.805231\tvalidation_1-auc:0.804621\n",
      "[67]\tvalidation_0-auc:0.805349\tvalidation_1-auc:0.804714\n",
      "[68]\tvalidation_0-auc:0.805458\tvalidation_1-auc:0.804774\n",
      "[69]\tvalidation_0-auc:0.805554\tvalidation_1-auc:0.804757\n",
      "[70]\tvalidation_0-auc:0.805652\tvalidation_1-auc:0.804799\n",
      "[71]\tvalidation_0-auc:0.805745\tvalidation_1-auc:0.804823\n",
      "[72]\tvalidation_0-auc:0.805831\tvalidation_1-auc:0.804887\n",
      "[73]\tvalidation_0-auc:0.805915\tvalidation_1-auc:0.804918\n",
      "[74]\tvalidation_0-auc:0.806021\tvalidation_1-auc:0.804892\n",
      "[75]\tvalidation_0-auc:0.806101\tvalidation_1-auc:0.804895\n",
      "[76]\tvalidation_0-auc:0.806183\tvalidation_1-auc:0.804942\n",
      "[77]\tvalidation_0-auc:0.806244\tvalidation_1-auc:0.804955\n",
      "[78]\tvalidation_0-auc:0.806336\tvalidation_1-auc:0.804948\n",
      "[79]\tvalidation_0-auc:0.806412\tvalidation_1-auc:0.804985\n",
      "[80]\tvalidation_0-auc:0.806501\tvalidation_1-auc:0.804984\n",
      "[81]\tvalidation_0-auc:0.806601\tvalidation_1-auc:0.805055\n",
      "[82]\tvalidation_0-auc:0.806688\tvalidation_1-auc:0.805106\n",
      "[83]\tvalidation_0-auc:0.806771\tvalidation_1-auc:0.805125\n",
      "[84]\tvalidation_0-auc:0.806838\tvalidation_1-auc:0.805155\n",
      "[85]\tvalidation_0-auc:0.806882\tvalidation_1-auc:0.80515\n",
      "[86]\tvalidation_0-auc:0.806961\tvalidation_1-auc:0.805145\n",
      "[87]\tvalidation_0-auc:0.807033\tvalidation_1-auc:0.805173\n",
      "[88]\tvalidation_0-auc:0.80708\tvalidation_1-auc:0.805205\n",
      "[89]\tvalidation_0-auc:0.807159\tvalidation_1-auc:0.805197\n",
      "[90]\tvalidation_0-auc:0.807212\tvalidation_1-auc:0.805199\n",
      "[91]\tvalidation_0-auc:0.807272\tvalidation_1-auc:0.805184\n",
      "[92]\tvalidation_0-auc:0.80733\tvalidation_1-auc:0.805222\n",
      "[93]\tvalidation_0-auc:0.8074\tvalidation_1-auc:0.805204\n",
      "[94]\tvalidation_0-auc:0.807448\tvalidation_1-auc:0.805243\n",
      "[95]\tvalidation_0-auc:0.807517\tvalidation_1-auc:0.805231\n",
      "[96]\tvalidation_0-auc:0.807591\tvalidation_1-auc:0.805288\n",
      "[97]\tvalidation_0-auc:0.807637\tvalidation_1-auc:0.805313\n",
      "[98]\tvalidation_0-auc:0.807689\tvalidation_1-auc:0.805316\n",
      "[99]\tvalidation_0-auc:0.807781\tvalidation_1-auc:0.805313\n",
      "[100]\tvalidation_0-auc:0.807822\tvalidation_1-auc:0.805316\n",
      "[101]\tvalidation_0-auc:0.807878\tvalidation_1-auc:0.805323\n",
      "[102]\tvalidation_0-auc:0.807931\tvalidation_1-auc:0.805327\n",
      "[103]\tvalidation_0-auc:0.808023\tvalidation_1-auc:0.805347\n",
      "[104]\tvalidation_0-auc:0.808077\tvalidation_1-auc:0.805377\n",
      "[105]\tvalidation_0-auc:0.80815\tvalidation_1-auc:0.805416\n",
      "[106]\tvalidation_0-auc:0.808223\tvalidation_1-auc:0.805429\n",
      "[107]\tvalidation_0-auc:0.808265\tvalidation_1-auc:0.805443\n",
      "[108]\tvalidation_0-auc:0.808298\tvalidation_1-auc:0.805461\n",
      "[109]\tvalidation_0-auc:0.808384\tvalidation_1-auc:0.805478\n",
      "[110]\tvalidation_0-auc:0.80842\tvalidation_1-auc:0.805488\n",
      "[111]\tvalidation_0-auc:0.808499\tvalidation_1-auc:0.805483\n",
      "[112]\tvalidation_0-auc:0.808544\tvalidation_1-auc:0.805479\n",
      "[113]\tvalidation_0-auc:0.808578\tvalidation_1-auc:0.805469\n",
      "[114]\tvalidation_0-auc:0.808624\tvalidation_1-auc:0.805477\n",
      "[115]\tvalidation_0-auc:0.808664\tvalidation_1-auc:0.805477\n",
      "[116]\tvalidation_0-auc:0.808727\tvalidation_1-auc:0.805481\n",
      "[117]\tvalidation_0-auc:0.808761\tvalidation_1-auc:0.805481\n",
      "[118]\tvalidation_0-auc:0.80878\tvalidation_1-auc:0.805488\n",
      "[119]\tvalidation_0-auc:0.808845\tvalidation_1-auc:0.805521\n",
      "[120]\tvalidation_0-auc:0.80887\tvalidation_1-auc:0.805514\n",
      "[121]\tvalidation_0-auc:0.80898\tvalidation_1-auc:0.805559\n",
      "[122]\tvalidation_0-auc:0.809007\tvalidation_1-auc:0.80557\n",
      "[123]\tvalidation_0-auc:0.809079\tvalidation_1-auc:0.805562\n",
      "[124]\tvalidation_0-auc:0.809144\tvalidation_1-auc:0.805567\n",
      "[125]\tvalidation_0-auc:0.809166\tvalidation_1-auc:0.805582\n",
      "[126]\tvalidation_0-auc:0.809221\tvalidation_1-auc:0.805592\n",
      "[127]\tvalidation_0-auc:0.809315\tvalidation_1-auc:0.805597\n",
      "[128]\tvalidation_0-auc:0.809406\tvalidation_1-auc:0.805622\n",
      "[129]\tvalidation_0-auc:0.809451\tvalidation_1-auc:0.805634\n",
      "[130]\tvalidation_0-auc:0.809498\tvalidation_1-auc:0.805641\n",
      "[131]\tvalidation_0-auc:0.809528\tvalidation_1-auc:0.805644\n",
      "[132]\tvalidation_0-auc:0.809604\tvalidation_1-auc:0.805637\n",
      "[133]\tvalidation_0-auc:0.809653\tvalidation_1-auc:0.805648\n",
      "[134]\tvalidation_0-auc:0.809705\tvalidation_1-auc:0.805669\n",
      "[135]\tvalidation_0-auc:0.809725\tvalidation_1-auc:0.805683\n",
      "[136]\tvalidation_0-auc:0.809764\tvalidation_1-auc:0.805683\n",
      "[137]\tvalidation_0-auc:0.809785\tvalidation_1-auc:0.805693\n",
      "[138]\tvalidation_0-auc:0.8099\tvalidation_1-auc:0.805689\n",
      "[139]\tvalidation_0-auc:0.809949\tvalidation_1-auc:0.805693\n",
      "[140]\tvalidation_0-auc:0.810003\tvalidation_1-auc:0.805715\n",
      "[141]\tvalidation_0-auc:0.810028\tvalidation_1-auc:0.805722\n",
      "[142]\tvalidation_0-auc:0.810069\tvalidation_1-auc:0.805735\n",
      "[143]\tvalidation_0-auc:0.810098\tvalidation_1-auc:0.805729\n",
      "[144]\tvalidation_0-auc:0.810194\tvalidation_1-auc:0.805722\n",
      "[145]\tvalidation_0-auc:0.810237\tvalidation_1-auc:0.805734\n",
      "[146]\tvalidation_0-auc:0.810292\tvalidation_1-auc:0.805743\n",
      "[147]\tvalidation_0-auc:0.810327\tvalidation_1-auc:0.805751\n",
      "[148]\tvalidation_0-auc:0.810345\tvalidation_1-auc:0.805756\n",
      "[149]\tvalidation_0-auc:0.810408\tvalidation_1-auc:0.80579\n",
      "[150]\tvalidation_0-auc:0.81047\tvalidation_1-auc:0.805792\n",
      "[151]\tvalidation_0-auc:0.810518\tvalidation_1-auc:0.80581\n",
      "[152]\tvalidation_0-auc:0.810538\tvalidation_1-auc:0.805818\n",
      "[153]\tvalidation_0-auc:0.810583\tvalidation_1-auc:0.805821\n",
      "[154]\tvalidation_0-auc:0.810612\tvalidation_1-auc:0.805811\n",
      "[155]\tvalidation_0-auc:0.810659\tvalidation_1-auc:0.805799\n",
      "[156]\tvalidation_0-auc:0.810748\tvalidation_1-auc:0.805797\n",
      "[157]\tvalidation_0-auc:0.810757\tvalidation_1-auc:0.805799\n",
      "[158]\tvalidation_0-auc:0.810783\tvalidation_1-auc:0.805801\n",
      "[159]\tvalidation_0-auc:0.810827\tvalidation_1-auc:0.805814\n",
      "[160]\tvalidation_0-auc:0.810843\tvalidation_1-auc:0.805819\n",
      "[161]\tvalidation_0-auc:0.810924\tvalidation_1-auc:0.805825\n",
      "[162]\tvalidation_0-auc:0.810981\tvalidation_1-auc:0.805812\n",
      "[163]\tvalidation_0-auc:0.811042\tvalidation_1-auc:0.805829\n",
      "[164]\tvalidation_0-auc:0.811072\tvalidation_1-auc:0.805833\n",
      "[165]\tvalidation_0-auc:0.811108\tvalidation_1-auc:0.805835\n",
      "[166]\tvalidation_0-auc:0.811125\tvalidation_1-auc:0.805839\n",
      "[167]\tvalidation_0-auc:0.811163\tvalidation_1-auc:0.805841\n",
      "[168]\tvalidation_0-auc:0.811228\tvalidation_1-auc:0.805836\n",
      "[169]\tvalidation_0-auc:0.81125\tvalidation_1-auc:0.805839\n",
      "[170]\tvalidation_0-auc:0.811291\tvalidation_1-auc:0.805852\n",
      "[171]\tvalidation_0-auc:0.811313\tvalidation_1-auc:0.805858\n",
      "[172]\tvalidation_0-auc:0.811345\tvalidation_1-auc:0.805864\n",
      "[173]\tvalidation_0-auc:0.811354\tvalidation_1-auc:0.805862\n",
      "[174]\tvalidation_0-auc:0.811403\tvalidation_1-auc:0.80586\n",
      "[175]\tvalidation_0-auc:0.811449\tvalidation_1-auc:0.805854\n",
      "[176]\tvalidation_0-auc:0.811476\tvalidation_1-auc:0.805856\n",
      "[177]\tvalidation_0-auc:0.811498\tvalidation_1-auc:0.805859\n",
      "[178]\tvalidation_0-auc:0.811522\tvalidation_1-auc:0.805856\n",
      "[179]\tvalidation_0-auc:0.811562\tvalidation_1-auc:0.805861\n",
      "[180]\tvalidation_0-auc:0.811579\tvalidation_1-auc:0.805868\n",
      "[181]\tvalidation_0-auc:0.81162\tvalidation_1-auc:0.805896\n",
      "[182]\tvalidation_0-auc:0.811635\tvalidation_1-auc:0.8059\n",
      "[183]\tvalidation_0-auc:0.811666\tvalidation_1-auc:0.805906\n",
      "[184]\tvalidation_0-auc:0.811732\tvalidation_1-auc:0.805918\n",
      "[185]\tvalidation_0-auc:0.811747\tvalidation_1-auc:0.805922\n",
      "[186]\tvalidation_0-auc:0.81176\tvalidation_1-auc:0.805926\n",
      "[187]\tvalidation_0-auc:0.81178\tvalidation_1-auc:0.80594\n",
      "[188]\tvalidation_0-auc:0.811836\tvalidation_1-auc:0.805933\n",
      "[189]\tvalidation_0-auc:0.811861\tvalidation_1-auc:0.805932\n",
      "[190]\tvalidation_0-auc:0.811899\tvalidation_1-auc:0.805933\n",
      "[191]\tvalidation_0-auc:0.811944\tvalidation_1-auc:0.805936\n",
      "[192]\tvalidation_0-auc:0.811962\tvalidation_1-auc:0.805943\n",
      "[193]\tvalidation_0-auc:0.811987\tvalidation_1-auc:0.805952\n",
      "[194]\tvalidation_0-auc:0.811996\tvalidation_1-auc:0.805953\n",
      "[195]\tvalidation_0-auc:0.812013\tvalidation_1-auc:0.805963\n",
      "[196]\tvalidation_0-auc:0.812063\tvalidation_1-auc:0.805973\n",
      "[197]\tvalidation_0-auc:0.812123\tvalidation_1-auc:0.805988\n",
      "[198]\tvalidation_0-auc:0.812148\tvalidation_1-auc:0.80599\n",
      "[199]\tvalidation_0-auc:0.812186\tvalidation_1-auc:0.805975\n",
      "[200]\tvalidation_0-auc:0.812203\tvalidation_1-auc:0.805979\n",
      "[201]\tvalidation_0-auc:0.812231\tvalidation_1-auc:0.805994\n",
      "[202]\tvalidation_0-auc:0.812246\tvalidation_1-auc:0.806002\n",
      "[203]\tvalidation_0-auc:0.812285\tvalidation_1-auc:0.806014\n",
      "[204]\tvalidation_0-auc:0.812298\tvalidation_1-auc:0.806005\n",
      "[205]\tvalidation_0-auc:0.812307\tvalidation_1-auc:0.806\n",
      "[206]\tvalidation_0-auc:0.812342\tvalidation_1-auc:0.806005\n",
      "[207]\tvalidation_0-auc:0.812386\tvalidation_1-auc:0.806003\n",
      "[208]\tvalidation_0-auc:0.81245\tvalidation_1-auc:0.805999\n",
      "[209]\tvalidation_0-auc:0.812512\tvalidation_1-auc:0.806026\n",
      "[210]\tvalidation_0-auc:0.812547\tvalidation_1-auc:0.80604\n",
      "[211]\tvalidation_0-auc:0.812602\tvalidation_1-auc:0.806034\n",
      "[212]\tvalidation_0-auc:0.812629\tvalidation_1-auc:0.806049\n",
      "[213]\tvalidation_0-auc:0.812672\tvalidation_1-auc:0.806052\n",
      "[214]\tvalidation_0-auc:0.8127\tvalidation_1-auc:0.806053\n",
      "[215]\tvalidation_0-auc:0.812725\tvalidation_1-auc:0.806059\n",
      "[216]\tvalidation_0-auc:0.81276\tvalidation_1-auc:0.806068\n",
      "[217]\tvalidation_0-auc:0.812823\tvalidation_1-auc:0.806075\n",
      "[218]\tvalidation_0-auc:0.812834\tvalidation_1-auc:0.806075\n",
      "[219]\tvalidation_0-auc:0.812845\tvalidation_1-auc:0.806076\n",
      "[220]\tvalidation_0-auc:0.812853\tvalidation_1-auc:0.806071\n",
      "[221]\tvalidation_0-auc:0.812911\tvalidation_1-auc:0.806072\n",
      "[222]\tvalidation_0-auc:0.812935\tvalidation_1-auc:0.806086\n",
      "[223]\tvalidation_0-auc:0.812949\tvalidation_1-auc:0.80609\n",
      "[224]\tvalidation_0-auc:0.813013\tvalidation_1-auc:0.806111\n",
      "[225]\tvalidation_0-auc:0.813046\tvalidation_1-auc:0.806108\n",
      "[226]\tvalidation_0-auc:0.813058\tvalidation_1-auc:0.806111\n",
      "[227]\tvalidation_0-auc:0.813064\tvalidation_1-auc:0.806107\n",
      "[228]\tvalidation_0-auc:0.813109\tvalidation_1-auc:0.806092\n",
      "[229]\tvalidation_0-auc:0.813164\tvalidation_1-auc:0.806087\n",
      "[230]\tvalidation_0-auc:0.813194\tvalidation_1-auc:0.8061\n",
      "[231]\tvalidation_0-auc:0.813235\tvalidation_1-auc:0.80609\n",
      "[232]\tvalidation_0-auc:0.81326\tvalidation_1-auc:0.8061\n",
      "[233]\tvalidation_0-auc:0.81327\tvalidation_1-auc:0.806099\n",
      "[234]\tvalidation_0-auc:0.813282\tvalidation_1-auc:0.806102\n",
      "Stopping. Best iteration:\n",
      "[224]\tvalidation_0-auc:0.813013\tvalidation_1-auc:0.806111\n",
      "\n"
     ]
    },
    {
     "data": {
      "text/plain": [
       "XGBClassifier(base_score=0.5, colsample_bylevel=1, colsample_bytree=1,\n",
       "       gamma=0, learning_rate=0.05, max_delta_step=0, max_depth=4,\n",
       "       min_child_weight=1, missing=None, n_estimators=10000, nthread=36,\n",
       "       objective='binary:logistic', reg_alpha=0, reg_lambda=1,\n",
       "       scale_pos_weight=1, seed=0, silent=True, subsample=1)"
      ]
     },
     "execution_count": 96,
     "metadata": {},
     "output_type": "execute_result"
    }
   ],
   "source": [
    "clf_all = XGBClassifier(max_depth = 4, nthread = 36,\n",
    "                    n_estimators = 10000, learning_rate =0.05)\n",
    "clf_all.fit(X_all_train, y_all_train,\n",
    "        eval_set = [(X_all_train, y_all_train), (X_all_test, y_all_stest)], eval_metric = 'auc',\n",
    "        early_stopping_rounds= 10, verbose = True)"
   ]
  },
  {
   "cell_type": "code",
   "execution_count": 69,
   "metadata": {
    "collapsed": false,
    "deletable": true,
    "editable": true
   },
   "outputs": [
    {
     "name": "stdout",
     "output_type": "stream",
     "text": [
      "0.800134615551\n",
      "0.796223156965\n"
     ]
    }
   ],
   "source": [
    "clf = RandomForestClassifier(n_estimators=1000, n_jobs=-1, max_depth=4, max_features='sqrt', criterion='entropy')\n",
    "# scores = cross_val_score(clf, X, y, cv=5)\n",
    "clf.fit(X_train, y_train)\n",
    "y_pred = clf.predict_proba(X_test)[:,1]\n",
    "y_tpred = clf.predict_proba(X_train)[:,1]\n",
    "print(roc_auc_score(y_train, y_tpred))\n",
    "print(roc_auc_score(y_test, y_pred))"
   ]
  },
  {
   "cell_type": "code",
   "execution_count": 36,
   "metadata": {
    "collapsed": false,
    "deletable": true,
    "editable": true
   },
   "outputs": [
    {
     "data": {
      "text/plain": [
       "0.73696370004568934"
      ]
     },
     "execution_count": 36,
     "metadata": {},
     "output_type": "execute_result"
    }
   ],
   "source": [
    "scoring = make_scorer(roc_auc_score, average='weighted')\n",
    "scoring(clf, X_test, y_test)"
   ]
  },
  {
   "cell_type": "code",
   "execution_count": 28,
   "metadata": {
    "collapsed": false,
    "deletable": true,
    "editable": true
   },
   "outputs": [
    {
     "name": "stdout",
     "output_type": "stream",
     "text": [
      "[ 0.73566174  0.73392857  0.73485714  0.7325      0.73369526]\n"
     ]
    }
   ],
   "source": [
    "scores = cross_val_score(clf, X, y, cv=5)\n",
    "print(scores)"
   ]
  },
  {
   "cell_type": "code",
   "execution_count": 59,
   "metadata": {
    "collapsed": true,
    "deletable": true,
    "editable": true
   },
   "outputs": [],
   "source": [
    "clf = RandomForestClassifier(n_estimators=100, n_jobs=-1)\n",
    "scores = cross_val_score(clf, XX, y, cv=5)\n",
    "print(scores)"
   ]
  },
  {
   "cell_type": "code",
   "execution_count": 70,
   "metadata": {
    "collapsed": false,
    "deletable": true,
    "editable": true
   },
   "outputs": [],
   "source": [
    "cv = KFold(3)\n",
    "grid = GridSearchCV(RandomForestClassifier(), param_grid={'n_estimators': [100,200,500],\n",
    "                                                          'max_depth': [4,6,8,12],\n",
    "                                                          'max_features': ['auto', 'log2', 'sqrt', None],\n",
    "                                                          'criterion': ['entropy', 'gini'],\n",
    "                                                          'n_jobs': [4]}, \n",
    "                    n_jobs=9, \n",
    "                    scoring='roc_auc',\n",
    "                    cv=cv,\n",
    "                   verbose = 1)"
   ]
  },
  {
   "cell_type": "code",
   "execution_count": 71,
   "metadata": {
    "collapsed": false,
    "deletable": true,
    "editable": true
   },
   "outputs": [
    {
     "name": "stdout",
     "output_type": "stream",
     "text": [
      "Fitting 3 folds for each of 96 candidates, totalling 288 fits\n"
     ]
    },
    {
     "name": "stderr",
     "output_type": "stream",
     "text": [
      "[Parallel(n_jobs=9)]: Done  32 tasks      | elapsed:   47.8s\n",
      "[Parallel(n_jobs=9)]: Done 182 tasks      | elapsed: 10.4min\n",
      "[Parallel(n_jobs=9)]: Done 288 out of 288 | elapsed: 19.3min finished\n"
     ]
    },
    {
     "data": {
      "text/plain": [
       "GridSearchCV(cv=KFold(n_splits=3, random_state=None, shuffle=False),\n",
       "       error_score='raise',\n",
       "       estimator=RandomForestClassifier(bootstrap=True, class_weight=None, criterion='gini',\n",
       "            max_depth=None, max_features='auto', max_leaf_nodes=None,\n",
       "            min_impurity_split=1e-07, min_samples_leaf=1,\n",
       "            min_samples_split=2, min_weight_fraction_leaf=0.0,\n",
       "            n_estimators=10, n_jobs=1, oob_score=False, random_state=None,\n",
       "            verbose=0, warm_start=False),\n",
       "       fit_params={}, iid=True, n_jobs=9,\n",
       "       param_grid={'criterion': ['entropy', 'gini'], 'max_features': ['auto', 'log2', 'sqrt', None], 'n_jobs': [4], 'n_estimators': [100, 200, 500], 'max_depth': [4, 6, 8, 12]},\n",
       "       pre_dispatch='2*n_jobs', refit=True, return_train_score=True,\n",
       "       scoring='roc_auc', verbose=1)"
      ]
     },
     "execution_count": 71,
     "metadata": {},
     "output_type": "execute_result"
    }
   ],
   "source": [
    "grid.fit(X, y)"
   ]
  },
  {
   "cell_type": "code",
   "execution_count": 72,
   "metadata": {
    "collapsed": false,
    "deletable": true,
    "editable": true
   },
   "outputs": [
    {
     "name": "stdout",
     "output_type": "stream",
     "text": [
      "{'criterion': 'entropy', 'max_features': 'sqrt', 'max_depth': 8, 'n_estimators': 200, 'n_jobs': 4}\n",
      "0.801359773449\n"
     ]
    }
   ],
   "source": [
    "print(grid.best_params_)\n",
    "print(grid.best_score_)"
   ]
  },
  {
   "cell_type": "code",
   "execution_count": 6,
   "metadata": {
    "collapsed": false,
    "deletable": true,
    "editable": true
   },
   "outputs": [],
   "source": [
    "cv = KFold(3)\n",
    "param_grid={'n_estimators':[10000], 'max_depth': [4,6,8,10,12], \n",
    "            'learning_rate': [0.01, 0.05, 0.001, 0.005], 'nthread': [6],\n",
    "            'colsample_bytree': [0.2,0.4,0.6,0.8], 'colsample_bylevel': [0.2,0.4,0.6,0.8],\n",
    "            'subsample': [0.2,0.4,0.6,0.8]}\n",
    "fit_params = {'eval_set': [(X_short_test, y_short_test)], 'eval_metric': 'auc',\n",
    "              'early_stopping_rounds': 10, 'verbose': False}\n",
    "xgb_grid = GridSearchCV(XGBClassifier(), \n",
    "                        param_grid=param_grid,\n",
    "                        fit_params = fit_params,\n",
    "                        n_jobs=6,\n",
    "                        scoring='roc_auc',\n",
    "                        cv=cv,\n",
    "                        verbose = 1)"
   ]
  },
  {
   "cell_type": "code",
   "execution_count": 7,
   "metadata": {
    "collapsed": false,
    "deletable": true,
    "editable": true
   },
   "outputs": [
    {
     "name": "stdout",
     "output_type": "stream",
     "text": [
      "Fitting 3 folds for each of 1280 candidates, totalling 3840 fits\n"
     ]
    },
    {
     "name": "stderr",
     "output_type": "stream",
     "text": [
      "[Parallel(n_jobs=6)]: Done  38 tasks      | elapsed:    3.1s\n",
      "[Parallel(n_jobs=6)]: Done 188 tasks      | elapsed:   13.8s\n",
      "[Parallel(n_jobs=6)]: Done 438 tasks      | elapsed:   39.8s\n",
      "[Parallel(n_jobs=6)]: Done 788 tasks      | elapsed:  1.4min\n",
      "[Parallel(n_jobs=6)]: Done 1238 tasks      | elapsed:  2.1min\n",
      "[Parallel(n_jobs=6)]: Done 1788 tasks      | elapsed:  3.4min\n",
      "[Parallel(n_jobs=6)]: Done 2438 tasks      | elapsed:  4.6min\n",
      "[Parallel(n_jobs=6)]: Done 3188 tasks      | elapsed:  6.5min\n",
      "[Parallel(n_jobs=6)]: Done 3840 out of 3840 | elapsed:  8.4min finished\n"
     ]
    },
    {
     "data": {
      "text/plain": [
       "GridSearchCV(cv=KFold(n_splits=3, random_state=None, shuffle=False),\n",
       "       error_score='raise',\n",
       "       estimator=XGBClassifier(base_score=0.5, colsample_bylevel=1, colsample_bytree=1,\n",
       "       gamma=0, learning_rate=0.1, max_delta_step=0, max_depth=3,\n",
       "       min_child_weight=1, missing=None, n_estimators=100, nthread=-1,\n",
       "       objective='binary:logistic', reg_alpha=0, reg_lambda=1,\n",
       "       scale_pos_weight=1, seed=0, silent=True, subsample=1),\n",
       "       fit_params={'eval_set': [(array([[ 55.,   1., ...,   0.,   0.],\n",
       "       [ 53.,   2., ...,   0.,   0.],\n",
       "       ...,\n",
       "       [ 62.,   1., ...,   0.,   0.],\n",
       "       [ 41.,   1., ...,   0.,   0.]]), array([ 0.,  1., ...,  1.,  0.]))], 'verbose': False, 'early_stopping_rounds': 10, 'eval_metric': 'auc'},\n",
       "       iid=True, n_jobs=6,\n",
       "       param_grid={'nthread': [6], 'colsample_bylevel': [0.2, 0.4, 0.6, 0.8], 'max_depth': [4, 6, 8, 10, 12], 'colsample_bytree': [0.2, 0.4, 0.6, 0.8], 'learning_rate': [0.01, 0.05, 0.001, 0.005], 'n_estimators': [10000], 'subsample': [0.2, 0.4, 0.6, 0.8]},\n",
       "       pre_dispatch='2*n_jobs', refit=True, return_train_score=True,\n",
       "       scoring='roc_auc', verbose=1)"
      ]
     },
     "execution_count": 7,
     "metadata": {},
     "output_type": "execute_result"
    }
   ],
   "source": [
    "xgb_grid.fit(X_short_train, y_short_train)"
   ]
  },
  {
   "cell_type": "code",
   "execution_count": 8,
   "metadata": {
    "collapsed": false,
    "deletable": true,
    "editable": true
   },
   "outputs": [
    {
     "name": "stdout",
     "output_type": "stream",
     "text": [
      "{'nthread': 6, 'colsample_bylevel': 0.6, 'max_depth': 4, 'colsample_bytree': 0.8, 'learning_rate': 0.05, 'n_estimators': 10000, 'subsample': 0.6}\n",
      "0.801628065561\n"
     ]
    }
   ],
   "source": [
    "print(xgb_grid.best_params_)\n",
    "print(xgb_grid.best_score_)"
   ]
  },
  {
   "cell_type": "code",
   "execution_count": 42,
   "metadata": {
    "collapsed": false,
    "deletable": true,
    "editable": true
   },
   "outputs": [
    {
     "data": {
      "text/plain": [
       "Index(['id', 'age', 'gender', 'height', 'weight', 'ap_hi', 'ap_lo',\n",
       "       'cholesterol', 'gluc', 'smoke', 'alco', 'active', 'cardio'],\n",
       "      dtype='object')"
      ]
     },
     "execution_count": 42,
     "metadata": {},
     "output_type": "execute_result"
    }
   ],
   "source": [
    "# make age, holesterol, gluc one-hot\n",
    "# use xgboost!!!\n",
    "# add smoke, alco, active processing\n",
    "df.columns"
   ]
  },
  {
   "cell_type": "code",
   "execution_count": 27,
   "metadata": {
    "collapsed": true,
    "deletable": true,
    "editable": true
   },
   "outputs": [],
   "source": [
    "def make_submission(test, clf):\n",
    "    Z = test[['age', 'gender', 'height', 'weight', 'ap_hi', 'ap_lo', 'cholesterol', 'gluc']].values\n",
    "    Z = preprocess(Z, squares=True)\n",
    "    return clf.predict_proba(Z)[:,1]"
   ]
  },
  {
   "cell_type": "code",
   "execution_count": 32,
   "metadata": {
    "collapsed": false,
    "deletable": true,
    "editable": true
   },
   "outputs": [],
   "source": [
    "df_test = pd.read_csv('test.csv', sep=';')\n",
    "# clf = RandomForestClassifier(**grid.best_params_)\n",
    "# clf.fit(X, y)\n",
    "subm = make_submission(df_test, clf)\n",
    "np.savetxt(\"submission.csv\", subm)"
   ]
  },
  {
   "cell_type": "code",
   "execution_count": 29,
   "metadata": {
    "collapsed": false,
    "deletable": true,
    "editable": true
   },
   "outputs": [
    {
     "data": {
      "text/plain": [
       "0.802495060758458"
      ]
     },
     "execution_count": 29,
     "metadata": {},
     "output_type": "execute_result"
    }
   ],
   "source": [
    "y_pred = clf.predict_proba(X_test)[:,1]\n",
    "roc_auc_score(y_test, y_pred)"
   ]
  },
  {
   "cell_type": "code",
   "execution_count": 47,
   "metadata": {
    "collapsed": false,
    "deletable": true,
    "editable": true
   },
   "outputs": [],
   "source": [
    "np_test = np.genfromtxt('test.csv', delimiter=';')"
   ]
  },
  {
   "cell_type": "code",
   "execution_count": 51,
   "metadata": {
    "collapsed": false,
    "deletable": true,
    "editable": true
   },
   "outputs": [
    {
     "data": {
      "text/plain": [
       "array([  6.00000000e+00,   1.90420000e+04,   2.00000000e+00,\n",
       "         1.70000000e+02,   6.90000000e+01,   1.30000000e+02,\n",
       "         9.00000000e+01,   1.00000000e+00,   1.00000000e+00,\n",
       "                    nan,   0.00000000e+00,   1.00000000e+00])"
      ]
     },
     "execution_count": 51,
     "metadata": {},
     "output_type": "execute_result"
    }
   ],
   "source": [
    "np_test[2,:]"
   ]
  },
  {
   "cell_type": "code",
   "execution_count": 30,
   "metadata": {
    "collapsed": false,
    "deletable": true,
    "editable": true
   },
   "outputs": [
    {
     "data": {
      "text/plain": [
       "XGBClassifier(base_score=0.5, colsample_bylevel=0.5, colsample_bytree=0.2,\n",
       "       gamma=0, learning_rate=0.05, max_delta_step=0, max_depth=4,\n",
       "       min_child_weight=1, missing=None, n_estimators=10000, nthread=36,\n",
       "       objective='binary:logitraw', reg_alpha=0, reg_lambda=1,\n",
       "       scale_pos_weight=1, seed=0, silent=True, subsample=0.2)"
      ]
     },
     "execution_count": 30,
     "metadata": {},
     "output_type": "execute_result"
    }
   ],
   "source": [
    "clf.fit(X, y)"
   ]
  },
  {
   "cell_type": "code",
   "execution_count": 36,
   "metadata": {
    "collapsed": true,
    "deletable": true,
    "editable": true
   },
   "outputs": [],
   "source": [
    "test_vals = df_test.values"
   ]
  },
  {
   "cell_type": "code",
   "execution_count": 41,
   "metadata": {
    "collapsed": false,
    "deletable": true,
    "editable": true
   },
   "outputs": [
    {
     "ename": "ValueError",
     "evalue": "invalid literal for int() with base 10: 'None'",
     "output_type": "error",
     "traceback": [
      "\u001b[0;31m---------------------------------------------------------------------------\u001b[0m",
      "\u001b[0;31mValueError\u001b[0m                                Traceback (most recent call last)",
      "\u001b[0;32m<ipython-input-41-2929d178645b>\u001b[0m in \u001b[0;36m<module>\u001b[0;34m()\u001b[0m\n\u001b[0;32m----> 1\u001b[0;31m \u001b[0mtest_vals\u001b[0m \u001b[0;34m=\u001b[0m \u001b[0mtest_vals\u001b[0m\u001b[0;34m.\u001b[0m\u001b[0mastype\u001b[0m\u001b[0;34m(\u001b[0m\u001b[0mint\u001b[0m\u001b[0;34m)\u001b[0m\u001b[0;34m\u001b[0m\u001b[0m\n\u001b[0m",
      "\u001b[0;31mValueError\u001b[0m: invalid literal for int() with base 10: 'None'"
     ]
    }
   ],
   "source": [
    "test_vals = test_vals.astype(int)"
   ]
  },
  {
   "cell_type": "code",
   "execution_count": 60,
   "metadata": {
    "collapsed": false,
    "deletable": true,
    "editable": true
   },
   "outputs": [
    {
     "data": {
      "text/plain": [
       "array([[  6.00000000e+00,   1.90420000e+04,   2.00000000e+00, ...,\n",
       "                     nan,   0.00000000e+00,   1.00000000e+00],\n",
       "       [  1.00000000e+01,   1.81330000e+04,   2.00000000e+00, ...,\n",
       "                     nan,   0.00000000e+00,   1.00000000e+00],\n",
       "       [  1.90000000e+01,   1.58730000e+04,   2.00000000e+00, ...,\n",
       "          0.00000000e+00,              nan,              nan],\n",
       "       ..., \n",
       "       [  9.99820000e+04,   1.89810000e+04,   1.00000000e+00, ...,\n",
       "          0.00000000e+00,              nan,   0.00000000e+00],\n",
       "       [  9.99840000e+04,   2.17220000e+04,   2.00000000e+00, ...,\n",
       "          0.00000000e+00,   1.00000000e+00,              nan],\n",
       "       [  9.99970000e+04,   1.60350000e+04,   2.00000000e+00, ...,\n",
       "                     nan,   0.00000000e+00,   1.00000000e+00]])"
      ]
     },
     "execution_count": 60,
     "metadata": {},
     "output_type": "execute_result"
    }
   ],
   "source": [
    "test_vals_nn2[1:,:]\n",
    "    "
   ]
  },
  {
   "cell_type": "code",
   "execution_count": 98,
   "metadata": {
    "collapsed": false,
    "deletable": true,
    "editable": true
   },
   "outputs": [],
   "source": [
    "test_all = np_test[~np.isnan(np_test).any(axis=1)]\n",
    "test_short = (np_test[np.isnan(np_test).any(axis=1)])\n",
    "ids_all = test_all[:,0]\n",
    "ids_short = test_short[1:,0]\n",
    "test_all = preprocess(test_all[:,1:])\n",
    "test_short = preprocess(test_short[1:,1:])"
   ]
  },
  {
   "cell_type": "code",
   "execution_count": 99,
   "metadata": {
    "collapsed": false,
    "deletable": true,
    "editable": true
   },
   "outputs": [],
   "source": [
    "y_pred_short = clf_short.predict_proba(test_short[:,:-3])[:,1]\n",
    "y_pred_all = clf_all.predict_proba(test_all)[:,1]"
   ]
  },
  {
   "cell_type": "code",
   "execution_count": 100,
   "metadata": {
    "collapsed": false,
    "deletable": true,
    "editable": true
   },
   "outputs": [],
   "source": [
    "y_pred = list(zip(ids_all, y_pred_all)) + list(zip(ids_short, y_pred_short))\n",
    "y_pred = sorted(y_pred, key=lambda x: x[0])\n",
    "y_pred = [x[1] for x in y_pred]\n",
    "np.savetxt(\"submission.csv\", y_pred)"
   ]
  },
  {
   "cell_type": "code",
   "execution_count": 106,
   "metadata": {
    "collapsed": false,
    "deletable": true,
    "editable": true
   },
   "outputs": [
    {
     "data": {
      "text/plain": [
       "array([ 0.01596517,  0.00798258,  0.00145138,  0.02830189,  0.00362845,\n",
       "        0.00943396,  0.02177068,  0.01596517,  0.01088534,  0.01161103,\n",
       "        0.04499274,  0.01596517,  0.02902758,  0.01161103,  0.01523948,\n",
       "        0.02539913,  0.00435414,  0.01886792,  0.00870827,  0.01814223,\n",
       "        0.00798258,  0.00943396,  0.00217707,  0.01015965,  0.01306241,\n",
       "        0.01959361,  0.00870827,  0.00362845,  0.01959361,  0.00145138,\n",
       "        0.01451379,  0.0065312 ,  0.01669086,  0.00507983,  0.00290276,\n",
       "        0.00290276,  0.01306241,  0.01233672,  0.02104499,  0.01959361,\n",
       "        0.02612482,  0.02177068,  0.02975327,  0.01161103,  0.0203193 ,\n",
       "        0.00580552,  0.        ,  0.00507983,  0.00725689,  0.00145138,\n",
       "        0.00362845,  0.00072569,  0.        ,  0.01161103,  0.        ,\n",
       "        0.01233672,  0.        ,  0.01015965,  0.00580552,  0.01306241,\n",
       "        0.00798258,  0.00072569,  0.        ,  0.00798258,  0.        ,\n",
       "        0.        ,  0.00217707,  0.00145138,  0.00290276,  0.00217707,\n",
       "        0.0065312 ,  0.00290276,  0.        ,  0.00290276,  0.00217707,\n",
       "        0.        ,  0.        ,  0.00072569,  0.00435414,  0.00145138,\n",
       "        0.00217707,  0.00507983,  0.0065312 ,  0.00072569,  0.        ,\n",
       "        0.00145138,  0.00435414,  0.        ,  0.00145138,  0.        ,\n",
       "        0.00072569,  0.00870827,  0.00072569,  0.00435414,  0.0065312 ,\n",
       "        0.01233672,  0.00798258,  0.00217707,  0.00145138,  0.00580552,\n",
       "        0.        ,  0.00072569,  0.        ,  0.        ,  0.        ,\n",
       "        0.00145138,  0.00217707,  0.00072569,  0.00072569,  0.00217707,\n",
       "        0.        ,  0.        ,  0.00072569,  0.        ,  0.        ,\n",
       "        0.        ,  0.00072569,  0.        ,  0.00145138,  0.        ,\n",
       "        0.00290276,  0.00072569,  0.00725689,  0.00217707,  0.        ,\n",
       "        0.00072569,  0.        ,  0.        ,  0.00072569,  0.        ,\n",
       "        0.        ,  0.        ,  0.00072569,  0.        ,  0.        ,\n",
       "        0.00145138,  0.00725689,  0.00072569,  0.00725689,  0.00943396,\n",
       "        0.01741655,  0.0065312 ,  0.00435414,  0.        ,  0.0137881 ,\n",
       "        0.00072569,  0.00072569,  0.        ,  0.00217707,  0.        ,\n",
       "        0.        ,  0.        ,  0.        ,  0.01741655,  0.        ,\n",
       "        0.00580552,  0.00798258,  0.01886792,  0.00870827,  0.00072569,\n",
       "        0.        ,  0.00435414,  0.        ,  0.        ,  0.        ,\n",
       "        0.00072569,  0.        ,  0.        ,  0.00217707,  0.        ], dtype=float32)"
      ]
     },
     "execution_count": 106,
     "metadata": {},
     "output_type": "execute_result"
    }
   ],
   "source": [
    "clf.feature_importances_"
   ]
  },
  {
   "cell_type": "code",
   "execution_count": 6,
   "metadata": {
    "collapsed": false,
    "deletable": true,
    "editable": true
   },
   "outputs": [
    {
     "name": "stdout",
     "output_type": "stream",
     "text": [
      "0.793125754287\n",
      "0.789208830256\n"
     ]
    }
   ],
   "source": [
    "clf = RandomForestClassifier(n_estimators=1000, n_jobs=-1, max_depth=4, max_features='sqrt', criterion='entropy')\n",
    "# scores = cross_val_score(clf, X, y, cv=5)\n",
    "clf.fit(X_all_train, y_all_train)\n",
    "y_pred = clf.predict_proba(X_all_test)[:,1]\n",
    "y_tpred = clf.predict_proba(X_all_train)[:,1]\n",
    "print(roc_auc_score(y_all_train, y_tpred))\n",
    "print(roc_auc_score(y_all_stest, y_pred))"
   ]
  },
  {
   "cell_type": "code",
   "execution_count": 9,
   "metadata": {
    "collapsed": false,
    "deletable": true,
    "editable": true
   },
   "outputs": [
    {
     "data": {
      "text/plain": [
       "(49000, 20)"
      ]
     },
     "execution_count": 9,
     "metadata": {},
     "output_type": "execute_result"
    }
   ],
   "source": [
    "X_all_train.shape"
   ]
  },
  {
   "cell_type": "code",
   "execution_count": 130,
   "metadata": {
    "collapsed": false,
    "deletable": true,
    "editable": true
   },
   "outputs": [
    {
     "data": {
      "text/plain": [
       "Index(['id', 'age', 'gender', 'height', 'weight', 'ap_hi', 'ap_lo',\n",
       "       'cholesterol', 'gluc', 'smoke', 'alco', 'active', 'cardio'],\n",
       "      dtype='object')"
      ]
     },
     "execution_count": 130,
     "metadata": {},
     "output_type": "execute_result"
    }
   ],
   "source": [
    "df.columns"
   ]
  },
  {
   "cell_type": "code",
   "execution_count": 150,
   "metadata": {
    "collapsed": false,
    "deletable": true,
    "editable": true
   },
   "outputs": [
    {
     "data": {
      "text/plain": [
       "183"
      ]
     },
     "execution_count": 150,
     "metadata": {},
     "output_type": "execute_result"
    }
   ],
   "source": [
    "len(df[df['ap_hi'] < 20])"
   ]
  },
  {
   "cell_type": "code",
   "execution_count": 128,
   "metadata": {
    "collapsed": false,
    "deletable": true,
    "editable": true
   },
   "outputs": [
    {
     "data": {
      "text/plain": [
       "array([ 51.,  45.,  42., ...,  58.,  52.,  44.])"
      ]
     },
     "execution_count": 128,
     "metadata": {},
     "output_type": "execute_result"
    }
   ],
   "source": []
  },
  {
   "cell_type": "code",
   "execution_count": null,
   "metadata": {
    "collapsed": true,
    "deletable": true,
    "editable": true
   },
   "outputs": [],
   "source": []
  }
 ],
 "metadata": {
  "kernelspec": {
   "display_name": "Python 3",
   "language": "python",
   "name": "python3"
  },
  "language_info": {
   "codemirror_mode": {
    "name": "ipython",
    "version": 3
   },
   "file_extension": ".py",
   "mimetype": "text/x-python",
   "name": "python",
   "nbconvert_exporter": "python",
   "pygments_lexer": "ipython3",
   "version": "3.4.3"
  }
 },
 "nbformat": 4,
 "nbformat_minor": 2
}
